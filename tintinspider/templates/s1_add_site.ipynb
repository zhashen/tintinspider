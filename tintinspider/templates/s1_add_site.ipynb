{
 "cells": [
  {
   "cell_type": "code",
   "execution_count": 1,
   "metadata": {},
   "outputs": [],
   "source": [
    "import time\n",
    "\n",
    "from selenium.webdriver.common.by import By\n",
    "\n",
    "from tintinspider.controller import Controller\n",
    "from tintinspider.fetchers import SeleniumFetcher\n",
    "\n",
    "import config\n",
    "\n",
    "conf = config.config"
   ]
  },
  {
   "cell_type": "code",
   "execution_count": 2,
   "metadata": {},
   "outputs": [],
   "source": [
    "fetcher = SeleniumFetcher(    \n",
    "    driver_path = conf['selenium']['driver_path'],\n",
    "    user_agent  = conf['selenium']['user_agent'],\n",
    "    proxy       = None,\n",
    "    headless    = True,  # False if you want to see the browser\n",
    ")"
   ]
  },
  {
   "cell_type": "markdown",
   "metadata": {},
   "source": [
    "### Tune regex_iurls"
   ]
  },
  {
   "cell_type": "code",
   "execution_count": null,
   "metadata": {},
   "outputs": [],
   "source": [
    "from tintinspider.rules import rule_extract_iurls\n",
    "\n",
    "url = '' # url to scrape\n",
    "regex_iurls = [r'']  # try different regex strings here\n",
    "\n",
    "def get_item_urls(url, regex_iurls):\n",
    "    html = fetcher.fetch(url)\n",
    "    next_urls = fetcher.extract_next_urls(html, url)  # only urls in the same domain\n",
    "    iurls = rule_extract_iurls(next_urls, regex_iurls)\n",
    "    print(f'Item URLs: {len(iurls)}')\n",
    "    print('-'*17)\n",
    "    print('Top 3 Item URLs are: ')\n",
    "    for i in range(3):\n",
    "        print(iurls[i])\n"
   ]
  },
  {
   "cell_type": "markdown",
   "metadata": {},
   "source": [
    "### Tune customer fetcher"
   ]
  },
  {
   "cell_type": "code",
   "execution_count": 4,
   "metadata": {},
   "outputs": [],
   "source": [
    "class YourFetcher(SeleniumFetcher):  # Name your custom fetcher\n",
    "\n",
    "    def fetch_with_custom(self, url, k):\n",
    "        pass\n",
    "\n",
    "fetcher2 = YourFetcher(   # Use your custom fetcher\n",
    "    driver_path = conf['selenium']['driver_path'],\n",
    "    user_agent  = conf['selenium']['user_agent'],\n",
    "    proxy       = None,\n",
    "    headless    = True,  # False if you want to see the browser\n",
    ")"
   ]
  },
  {
   "cell_type": "code",
   "execution_count": null,
   "metadata": {},
   "outputs": [],
   "source": [
    "url = 'https://hk.centanet.com/findproperty/list/buy'\n",
    "htmls = fetcher2.fetch_with_custom(url, 3)\n",
    "print(f'Fetched {len(htmls)} pages')"
   ]
  },
  {
   "cell_type": "code",
   "execution_count": null,
   "metadata": {},
   "outputs": [],
   "source": [
    "iurls = []\n",
    "for html in htmls:\n",
    "    u = get_item_urls(html, regex_iurls)\n",
    "    iurls.extend(u)\n",
    "print(f'Total {len(iurls)} item URLs')\n",
    "print('-'*17)\n",
    "print('Top 3 Item URLs are: ')\n",
    "for i in range(3):\n",
    "    print(iurls[i])"
   ]
  },
  {
   "cell_type": "markdown",
   "metadata": {},
   "source": [
    "### Add the site to DB"
   ]
  },
  {
   "cell_type": "code",
   "execution_count": null,
   "metadata": {},
   "outputs": [],
   "source": [
    "ctrl = Controller(config.config, fetcher)\n",
    "\n",
    "site_info = {\n",
    "    \"code\" : \"\",              # Unique site code. Use lower case letter only\n",
    "    \"name\" : \"\",              # Site name\n",
    "    \"homepage\" : \"\",          # Site homepage, optional\n",
    "    \"rule_pagination\" : \"\",   # \"next_url_...\", \"click\", \"scroll\", \"custom\"\n",
    "    \"clk_xpath\" : \"\",         # if pagination is \"click\", specify Xpath for \"Load more\"-kind button\n",
    "    \"first_maxpages\" : 3,     # Max pagination for first-time scraping\n",
    "    \"revisit_maxpages\" : 3,   # Max pagination for periodic scraping\n",
    "    \"revisit_freq\" : 14400,   # Revisit frequency by seconds\n",
    "    \"root_curls\" : [          # Entry URLs. Pagniation will be applied to this list of URLs.\n",
    "    ],\n",
    "    \"root_curls_nopages\" : [  # Another set of entry URLs. No pagination. \n",
    "    ],\n",
    "    \"regex_iurls\" : [         # Specify regex of item URLs\n",
    "    ],\n",
    "    \"priority\" : 1,           # The higher, the more prioritized. 0 means the site is inactive.\n",
    "}\n",
    "\n",
    "# ctrl.add_site(site_info)"
   ]
  }
 ],
 "metadata": {
  "kernelspec": {
   "display_name": "venv-jason3",
   "language": "python",
   "name": "python3"
  },
  "language_info": {
   "codemirror_mode": {
    "name": "ipython",
    "version": 3
   },
   "file_extension": ".py",
   "mimetype": "text/x-python",
   "name": "python",
   "nbconvert_exporter": "python",
   "pygments_lexer": "ipython3",
   "version": "3.12.4"
  }
 },
 "nbformat": 4,
 "nbformat_minor": 2
}

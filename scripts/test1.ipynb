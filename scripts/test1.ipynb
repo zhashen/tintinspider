{
 "cells": [
  {
   "cell_type": "code",
   "execution_count": 1,
   "metadata": {},
   "outputs": [],
   "source": [
    "import time\n",
    "\n",
    "from selenium.webdriver.common.by import By\n",
    "\n",
    "from tintinspider.controller import Controller\n",
    "from tintinspider.fetchers import SeleniumFetcher\n",
    "\n",
    "import config\n",
    "\n",
    "conf = config.config"
   ]
  },
  {
   "cell_type": "code",
   "execution_count": 2,
   "metadata": {},
   "outputs": [],
   "source": [
    "class CentanetFetcher(SeleniumFetcher):\n",
    "\n",
    "    def fetch_with_custom(self, url, k):\n",
    "        tries = 0\n",
    "        result = []\n",
    "        while tries < self.max_tries:\n",
    "            try:\n",
    "                self.driver.get(url)\n",
    "                self.driver.maximize_window()\n",
    "                # Select latest listings\n",
    "                time.sleep(1)\n",
    "                self.driver.find_element(By.XPATH, \"//i[@class='el-icon-caret-bottom']\").click()\n",
    "                time.sleep(1)\n",
    "                self.driver.find_element(By.XPATH, \"//ul[starts-with(@id, 'dropdown-menu') and contains(@x-placement, 'bottom-start')]/li[2]\").click()\n",
    "                time.sleep(1)\n",
    "                # Pagination\n",
    "                for _ in range(k):\n",
    "                    result.append(self.driver.page_source)\n",
    "                    self.driver.find_element(By.XPATH, \"//button[@class='btn-next']\").click()\n",
    "                    time.sleep(3)\n",
    "                break\n",
    "            except Exception as e:\n",
    "                print(str(e))\n",
    "                tries += 1\n",
    "                time.sleep(self.retry_delay)\n",
    "        try:        \n",
    "            return result\n",
    "        except:\n",
    "            return None"
   ]
  },
  {
   "cell_type": "code",
   "execution_count": 3,
   "metadata": {},
   "outputs": [],
   "source": [
    "fetcher = CentanetFetcher(    \n",
    "    driver_path = conf['selenium']['driver_path'],\n",
    "    user_agent  = conf['selenium']['user_agent'],\n",
    "    proxy       = None,\n",
    "    headless    = True,\n",
    ")\n",
    "\n",
    "# url = 'https://hk.centanet.com/findproperty/list/buy'\n",
    "# htmls = f2.fetch_with_custom(url, 2)\n",
    "# print(len(htmls))"
   ]
  },
  {
   "cell_type": "code",
   "execution_count": 4,
   "metadata": {},
   "outputs": [],
   "source": [
    "ctrl = Controller(config.config)"
   ]
  },
  {
   "cell_type": "code",
   "execution_count": 6,
   "metadata": {},
   "outputs": [],
   "source": [
    "# note: regex_aurls --> regex_iurls\n",
    "\n",
    "site_info = {\n",
    "    \"code\" : \"centanet\",\n",
    "    \"clk_xpath\" : \"\",\n",
    "    \"first_maxpages\" : 3,\n",
    "    \"homepage\" : \"https://hk.centanet.com/\",\n",
    "    \"name\" : \"中原地产\",\n",
    "    \"priority\" : 1,\n",
    "    \"regex_iurls\" : [\n",
    "        \"https://hk.centanet.com/findproperty/detail/.*\"\n",
    "    ],\n",
    "    \"revisit_freq\" : 14400,\n",
    "    \"revisit_maxpages\" : 3,\n",
    "    \"root_curls\" : [\n",
    "        \"https://hk.centanet.com/findproperty/list/buy\"\n",
    "    ],\n",
    "    \"root_curls_nopages\" : [\n",
    "\n",
    "    ],\n",
    "    \"rule_pagination\" : \"custom\"\n",
    "}\n",
    "ctrl.add_site(site_info)"
   ]
  },
  {
   "cell_type": "code",
   "execution_count": 6,
   "metadata": {},
   "outputs": [],
   "source": [
    "# ctrl.start_generating_iurls()"
   ]
  },
  {
   "cell_type": "code",
   "execution_count": null,
   "metadata": {},
   "outputs": [
    {
     "name": "stdout",
     "output_type": "stream",
     "text": [
      "urls to crawl: 72\n",
      "Getting proxies...\n",
      "Done, got 108 proxies.\n",
      "-----------------\n",
      "http://59.54.238.20:20140: 10\n",
      "self: 4\n",
      "-----------------\n",
      "Newly done: 14\n",
      "Total done: 14\n",
      "Throughput: 0.23\n",
      "Efficiency: 4.35\n",
      "Proxy Pool: 107\n",
      "Undone: 56\n",
      "ETA: 0 days, 00:04:03\n",
      "-----------------\n"
     ]
    }
   ],
   "source": [
    "ctrl.start_crawling_iurls(n_workers=2)"
   ]
  },
  {
   "cell_type": "code",
   "execution_count": null,
   "metadata": {},
   "outputs": [],
   "source": []
  }
 ],
 "metadata": {
  "kernelspec": {
   "display_name": "venv-jason3",
   "language": "python",
   "name": "python3"
  },
  "language_info": {
   "codemirror_mode": {
    "name": "ipython",
    "version": 3
   },
   "file_extension": ".py",
   "mimetype": "text/x-python",
   "name": "python",
   "nbconvert_exporter": "python",
   "pygments_lexer": "ipython3",
   "version": "3.12.4"
  }
 },
 "nbformat": 4,
 "nbformat_minor": 2
}
